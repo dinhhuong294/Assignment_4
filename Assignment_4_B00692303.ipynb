{
 "cells": [
  {
   "cell_type": "code",
   "execution_count": 4,
   "metadata": {},
   "outputs": [
    {
     "data": {
      "text/plain": [
       "{xml_nodeset (1)}\n",
       "[1] <table class=\"table\">\\n<style>\\n          table {\\n                 borde ..."
      ]
     },
     "metadata": {},
     "output_type": "display_data"
    }
   ],
   "source": [
    "library(rvest)\n",
    "library(dplyr)\n",
    "\n",
    "ranks = read_html('https://cwur.org/2018-19.php')\n",
    "ranks %>% html_nodes('table')\n",
    "fullrdata = ranks %>% html_nodes('table') %>% .[[1]] %>%\n",
    "  html_table()\n",
    "col = names(fullrdata)\n",
    "names(fullrdata) = make.names(col)\n",
    "rdata = filter(fullrdata, Quality.of.Education != '-' & Alumni.Employment != '-' & Quality.of.Faculty!= '-' & Research.Output!= '-' & Quality..Publications!= '-' & Influence!= '-' &Citations!= '-')\n",
    "rdata = na.omit(rdata)"
   ]
  },
  {
   "cell_type": "code",
   "execution_count": 7,
   "metadata": {},
   "outputs": [
    {
     "data": {
      "text/html": [
       "<table>\n",
       "<thead><tr><th scope=col>World.Rank</th><th scope=col>Institution</th><th scope=col>Location</th><th scope=col>National.Rank</th><th scope=col>Quality.of.Education</th><th scope=col>Alumni.Employment</th><th scope=col>Quality.of.Faculty</th><th scope=col>Research.Output</th><th scope=col>Quality..Publications</th><th scope=col>Influence</th><th scope=col>Citations</th><th scope=col>Score</th></tr></thead>\n",
       "<tbody>\n",
       "\t<tr><td>1                                    </td><td>Harvard University                   </td><td>USA                                  </td><td>1                                    </td><td>2                                    </td><td>1                                    </td><td>1                                    </td><td>1                                    </td><td>1                                    </td><td>1                                    </td><td>1                                    </td><td>100.0                                </td></tr>\n",
       "\t<tr><td>2                                    </td><td>Stanford University                  </td><td>USA                                  </td><td>2                                    </td><td>10                                   </td><td>3                                    </td><td>2                                    </td><td>10                                   </td><td>4                                    </td><td>3                                    </td><td>2                                    </td><td> 96.7                                </td></tr>\n",
       "\t<tr><td>3                                    </td><td>Massachusetts Institute of Technology</td><td>USA                                  </td><td>3                                    </td><td>3                                    </td><td>11                                   </td><td>3                                    </td><td>30                                   </td><td>15                                   </td><td>2                                    </td><td>6                                    </td><td> 95.1                                </td></tr>\n",
       "\t<tr><td>4                                    </td><td>University of Cambridge              </td><td>United Kingdom                       </td><td>1                                    </td><td>5                                    </td><td>19                                   </td><td>6                                    </td><td>12                                   </td><td>8                                    </td><td>6                                    </td><td>19                                   </td><td> 94.0                                </td></tr>\n",
       "\t<tr><td>5                                    </td><td>University of Oxford                 </td><td>United Kingdom                       </td><td>2                                    </td><td>9                                    </td><td>25                                   </td><td>10                                   </td><td>9                                    </td><td>5                                    </td><td>7                                    </td><td>4                                    </td><td> 93.2                                </td></tr>\n",
       "\t<tr><td>6                                    </td><td>University of California, Berkeley   </td><td>USA                                  </td><td>4                                    </td><td>7                                    </td><td>52                                   </td><td>5                                    </td><td>18                                   </td><td>12                                   </td><td>4                                    </td><td>8                                    </td><td> 92.5                                </td></tr>\n",
       "</tbody>\n",
       "</table>\n"
      ],
      "text/latex": [
       "\\begin{tabular}{r|llllllllllll}\n",
       " World.Rank & Institution & Location & National.Rank & Quality.of.Education & Alumni.Employment & Quality.of.Faculty & Research.Output & Quality..Publications & Influence & Citations & Score\\\\\n",
       "\\hline\n",
       "\t 1                                     & Harvard University                    & USA                                   & 1                                     & 2                                     & 1                                     & 1                                     & 1                                     & 1                                     & 1                                     & 1                                     & 100.0                                \\\\\n",
       "\t 2                                     & Stanford University                   & USA                                   & 2                                     & 10                                    & 3                                     & 2                                     & 10                                    & 4                                     & 3                                     & 2                                     &  96.7                                \\\\\n",
       "\t 3                                     & Massachusetts Institute of Technology & USA                                   & 3                                     & 3                                     & 11                                    & 3                                     & 30                                    & 15                                    & 2                                     & 6                                     &  95.1                                \\\\\n",
       "\t 4                                     & University of Cambridge               & United Kingdom                        & 1                                     & 5                                     & 19                                    & 6                                     & 12                                    & 8                                     & 6                                     & 19                                    &  94.0                                \\\\\n",
       "\t 5                                     & University of Oxford                  & United Kingdom                        & 2                                     & 9                                     & 25                                    & 10                                    & 9                                     & 5                                     & 7                                     & 4                                     &  93.2                                \\\\\n",
       "\t 6                                     & University of California, Berkeley    & USA                                   & 4                                     & 7                                     & 52                                    & 5                                     & 18                                    & 12                                    & 4                                     & 8                                     &  92.5                                \\\\\n",
       "\\end{tabular}\n"
      ],
      "text/markdown": [
       "\n",
       "World.Rank | Institution | Location | National.Rank | Quality.of.Education | Alumni.Employment | Quality.of.Faculty | Research.Output | Quality..Publications | Influence | Citations | Score | \n",
       "|---|---|---|---|---|---|\n",
       "| 1                                     | Harvard University                    | USA                                   | 1                                     | 2                                     | 1                                     | 1                                     | 1                                     | 1                                     | 1                                     | 1                                     | 100.0                                 | \n",
       "| 2                                     | Stanford University                   | USA                                   | 2                                     | 10                                    | 3                                     | 2                                     | 10                                    | 4                                     | 3                                     | 2                                     |  96.7                                 | \n",
       "| 3                                     | Massachusetts Institute of Technology | USA                                   | 3                                     | 3                                     | 11                                    | 3                                     | 30                                    | 15                                    | 2                                     | 6                                     |  95.1                                 | \n",
       "| 4                                     | University of Cambridge               | United Kingdom                        | 1                                     | 5                                     | 19                                    | 6                                     | 12                                    | 8                                     | 6                                     | 19                                    |  94.0                                 | \n",
       "| 5                                     | University of Oxford                  | United Kingdom                        | 2                                     | 9                                     | 25                                    | 10                                    | 9                                     | 5                                     | 7                                     | 4                                     |  93.2                                 | \n",
       "| 6                                     | University of California, Berkeley    | USA                                   | 4                                     | 7                                     | 52                                    | 5                                     | 18                                    | 12                                    | 4                                     | 8                                     |  92.5                                 | \n",
       "\n",
       "\n"
      ],
      "text/plain": [
       "  World.Rank Institution                           Location       National.Rank\n",
       "1 1          Harvard University                    USA            1            \n",
       "2 2          Stanford University                   USA            2            \n",
       "3 3          Massachusetts Institute of Technology USA            3            \n",
       "4 4          University of Cambridge               United Kingdom 1            \n",
       "5 5          University of Oxford                  United Kingdom 2            \n",
       "6 6          University of California, Berkeley    USA            4            \n",
       "  Quality.of.Education Alumni.Employment Quality.of.Faculty Research.Output\n",
       "1 2                    1                 1                  1              \n",
       "2 10                   3                 2                  10             \n",
       "3 3                    11                3                  30             \n",
       "4 5                    19                6                  12             \n",
       "5 9                    25                10                 9              \n",
       "6 7                    52                5                  18             \n",
       "  Quality..Publications Influence Citations Score\n",
       "1 1                     1         1         100.0\n",
       "2 4                     3         2          96.7\n",
       "3 15                    2         6          95.1\n",
       "4 8                     6         19         94.0\n",
       "5 5                     7         4          93.2\n",
       "6 12                    4         8          92.5"
      ]
     },
     "metadata": {},
     "output_type": "display_data"
    }
   ],
   "source": [
    "#turn '>1000' -> '1000' in order to analyse data numerically\n",
    "for (i in 1:nrow(rdata)){\n",
    "    for (j in 1:ncol(rdata)){\n",
    "        if (rdata[i,j] == '> 1000'){\n",
    "            rdata[i,j] = 1000\n",
    "        }\n",
    "    }\n",
    "}\n",
    "head(rdata)"
   ]
  },
  {
   "cell_type": "code",
   "execution_count": 6,
   "metadata": {},
   "outputs": [],
   "source": [
    "WR = rdata$World.Rank\n",
    "QE = rdata$Quality.of.Education\n",
    "QP = rdata$Quality..Publications"
   ]
  },
  {
   "cell_type": "code",
   "execution_count": 13,
   "metadata": {},
   "outputs": [
    {
     "data": {
      "text/html": [
       "<table>\n",
       "<thead><tr><th scope=col>Country</th><th scope=col>Freq</th></tr></thead>\n",
       "<tbody>\n",
       "\t<tr><td>USA           </td><td>213           </td></tr>\n",
       "\t<tr><td>China         </td><td>108           </td></tr>\n",
       "\t<tr><td>United Kingdom</td><td> 62           </td></tr>\n",
       "\t<tr><td>France        </td><td> 58           </td></tr>\n",
       "\t<tr><td>Japan         </td><td> 56           </td></tr>\n",
       "\t<tr><td>Germany       </td><td> 54           </td></tr>\n",
       "</tbody>\n",
       "</table>\n"
      ],
      "text/latex": [
       "\\begin{tabular}{r|ll}\n",
       " Country & Freq\\\\\n",
       "\\hline\n",
       "\t USA            & 213           \\\\\n",
       "\t China          & 108           \\\\\n",
       "\t United Kingdom &  62           \\\\\n",
       "\t France         &  58           \\\\\n",
       "\t Japan          &  56           \\\\\n",
       "\t Germany        &  54           \\\\\n",
       "\\end{tabular}\n"
      ],
      "text/markdown": [
       "\n",
       "Country | Freq | \n",
       "|---|---|---|---|---|---|\n",
       "| USA            | 213            | \n",
       "| China          | 108            | \n",
       "| United Kingdom |  62            | \n",
       "| France         |  58            | \n",
       "| Japan          |  56            | \n",
       "| Germany        |  54            | \n",
       "\n",
       "\n"
      ],
      "text/plain": [
       "  Country        Freq\n",
       "1 USA            213 \n",
       "2 China          108 \n",
       "3 United Kingdom  62 \n",
       "4 France          58 \n",
       "5 Japan           56 \n",
       "6 Germany         54 "
      ]
     },
     "metadata": {},
     "output_type": "display_data"
    }
   ],
   "source": [
    "country_list = sort(table(fullrdata$Location), decreasing = TRUE)\n",
    "country_list = as.data.frame(country_list)\n",
    "country_list = setNames(object = country_list, c('Country', 'Freq'))\n",
    "head(country_list)"
   ]
  },
  {
   "cell_type": "code",
   "execution_count": 74,
   "metadata": {
    "scrolled": false
   },
   "outputs": [
    {
     "name": "stderr",
     "output_type": "stream",
     "text": [
      "Warning message:\n",
      "\"Column `Country` joining factor and character vector, coercing into character vector\""
     ]
    }
   ],
   "source": [
    "countries = read.csv(\"countries.txt\")\n",
    "countries$Continent = as.character(countries$Continent)\n",
    "countries$Country = as.character(countries$Country)\n",
    "Country_Continent = left_join(country_list, countries, by=c(\"Country\"=\"Country\")) \n",
    "Country_Continent$Continent[Country_Continent$Country == 'Taiwan'] = 'Asia'"
   ]
  },
  {
   "cell_type": "code",
   "execution_count": 183,
   "metadata": {},
   "outputs": [
    {
     "data": {
      "text/html": [
       "<table>\n",
       "<thead><tr><th scope=col>Country</th><th scope=col>Freq</th><th scope=col>Continent</th></tr></thead>\n",
       "<tbody>\n",
       "\t<tr><td>South Africa</td><td>  7         </td><td>Africa      </td></tr>\n",
       "\t<tr><td>Egypt       </td><td>  4         </td><td>Africa      </td></tr>\n",
       "\t<tr><td>Nigeria     </td><td>  1         </td><td>Africa      </td></tr>\n",
       "\t<tr><td>Tunisia     </td><td>  1         </td><td>Africa      </td></tr>\n",
       "\t<tr><td>Uganda      </td><td>  1         </td><td>Africa      </td></tr>\n",
       "\t<tr><td>China       </td><td>108         </td><td>Asia        </td></tr>\n",
       "</tbody>\n",
       "</table>\n"
      ],
      "text/latex": [
       "\\begin{tabular}{r|lll}\n",
       " Country & Freq & Continent\\\\\n",
       "\\hline\n",
       "\t South Africa &   7          & Africa      \\\\\n",
       "\t Egypt        &   4          & Africa      \\\\\n",
       "\t Nigeria      &   1          & Africa      \\\\\n",
       "\t Tunisia      &   1          & Africa      \\\\\n",
       "\t Uganda       &   1          & Africa      \\\\\n",
       "\t China        & 108          & Asia        \\\\\n",
       "\\end{tabular}\n"
      ],
      "text/markdown": [
       "\n",
       "Country | Freq | Continent | \n",
       "|---|---|---|---|---|---|\n",
       "| South Africa |   7          | Africa       | \n",
       "| Egypt        |   4          | Africa       | \n",
       "| Nigeria      |   1          | Africa       | \n",
       "| Tunisia      |   1          | Africa       | \n",
       "| Uganda       |   1          | Africa       | \n",
       "| China        | 108          | Asia         | \n",
       "\n",
       "\n"
      ],
      "text/plain": [
       "  Country      Freq Continent\n",
       "1 South Africa   7  Africa   \n",
       "2 Egypt          4  Africa   \n",
       "3 Nigeria        1  Africa   \n",
       "4 Tunisia        1  Africa   \n",
       "5 Uganda         1  Africa   \n",
       "6 China        108  Asia     "
      ]
     },
     "metadata": {},
     "output_type": "display_data"
    }
   ],
   "source": [
    "Country_Continent = Country_Continent %>% arrange(Continent)\n",
    "Con = Country_Continent$Continent\n",
    "Coun = Country_Continent$Country\n",
    "head(Country_Continent)"
   ]
  },
  {
   "cell_type": "code",
   "execution_count": 215,
   "metadata": {},
   "outputs": [],
   "source": [
    "theme_lucy = function (base_size = 10, base_family = \"\") {\n",
    "  theme_minimal(base_size = base_size, base_family = base_family) %+replace%\n",
    "    theme(axis.text = element_text(colour = \"grey50\", size = 8),\n",
    "          axis.title.x = element_text(colour = \"dodgerblue\", size = 12, margin = margin(t = 20, r = 20, b = 20, l = 20)),\n",
    "          axis.title.y = element_text(colour = \"dodgerblue\", angle = 90, size = 12, margin = margin(t = 0, r = 20, b = 0, l = 0)),\n",
    "          panel.grid.minor = element_blank(),\n",
    "          panel.grid.major.y = element_blank(),\n",
    "          plot.title = element_text(colour = \"black\", size = 14, margin = margin(t = 20, r = 0, b = 20, l = 0)),\n",
    "          legend.title = element_text(size = 12)\n",
    "\n",
    "  )\n",
    "}"
   ]
  },
  {
   "cell_type": "code",
   "execution_count": 235,
   "metadata": {},
   "outputs": [
    {
     "data": {},
     "metadata": {},
     "output_type": "display_data"
    },
    {
     "data": {
      "image/png": "[encoded data removed]",
      "text/plain": [
       "plot without title"
      ]
     },
     "metadata": {},
     "output_type": "display_data"
    }
   ],
   "source": [
    "library(ggplot2)\n",
    "par(mai = c(1,1,1,1), omd = c(1,1,1,1), pin = c(7,9))\n",
    "p = ggplot(Country_Continent, aes(x=`Country`, y=Freq, label=Freq))\n",
    "p = p + geom_bar(stat='identity', aes(colour = factor(Continent), fill = factor(Continent)), width = 0.75, position=position_dodge()) + coord_flip() + geom_text(aes(label=Freq), hjust = -0.7, vjust=0.3, size=2)\n",
    "p = p + scale_x_discrete (limits = rev(Coun)) + theme_lucy() + scale_fill_manual('Continents',values=c('#DC96A7','#EB704A','#6AB0D7','#FEEC98','#B1D39B','#9274DC')) + scale_colour_manual('Continents',values=c('#DC96A7','#EB704A','#6AB0D7','#FEEC98','#B1D39B','#9274DC'))\n",
    "p + labs(title=\"Number of schools from each country in top 1000 highest-ranked universities list\", caption = 'Data from CWUR World University Rankings 2018-2019', x =\"Countries\", y = \"Number of schools in top-1000 list\")"
   ]
  },
  {
   "cell_type": "code",
   "execution_count": 244,
   "metadata": {},
   "outputs": [
    {
     "data": {},
     "metadata": {},
     "output_type": "display_data"
    },
    {
     "data": {
      "text/html": [
       "<strong>png:</strong> 2"
      ],
      "text/latex": [
       "\\textbf{png:} 2"
      ],
      "text/markdown": [
       "**png:** 2"
      ],
      "text/plain": [
       "png \n",
       "  2 "
      ]
     },
     "metadata": {},
     "output_type": "display_data"
    }
   ],
   "source": [
    "#PDF file\n",
    "pdf(\"Assignment_4.pdf\", width=7, height=9)\n",
    "par(mai = c(1,1,1,1), omd = c(1,1,1,1), pin = c(7,9))\n",
    "p = ggplot(Country_Continent, aes(x=`Country`, y=Freq, label=Freq))\n",
    "p = p + geom_bar(stat='identity', aes(colour = factor(Continent), fill = factor(Continent)), width = 0.75, position=position_dodge()) + coord_flip() + geom_text(aes(label=Freq), hjust = -0.7, vjust=0.3, size=2)\n",
    "p = p + scale_x_discrete (limits = rev(Coun)) + theme_lucy() + scale_fill_manual('Continents',values=c('#DC96A7','#EB704A','#6AB0D7','#FEEC98','#B1D39B','#9274DC')) + scale_colour_manual('Continents',values=c('#DC96A7','#EB704A','#6AB0D7','#FEEC98','#B1D39B','#9274DC'))\n",
    "p + labs(title=\"Number of schools from each country in top 1000 highest-ranked universities list\", caption = 'Data from CWUR World University Rankings 2018-2019', x =\"Countries\", y = \"Number of schools in top-1000 list\")\n",
    "dev.off()\n"
   ]
  },
  {
   "cell_type": "code",
   "execution_count": 245,
   "metadata": {},
   "outputs": [
    {
     "data": {},
     "metadata": {},
     "output_type": "display_data"
    },
    {
     "data": {
      "text/html": [
       "<strong>png:</strong> 2"
      ],
      "text/latex": [
       "\\textbf{png:} 2"
      ],
      "text/markdown": [
       "**png:** 2"
      ],
      "text/plain": [
       "png \n",
       "  2 "
      ]
     },
     "metadata": {},
     "output_type": "display_data"
    }
   ],
   "source": [
    "#PNG file (resolution = 300dpi)\n",
    "png(\"Assignment_4.png\", width=7, height=9, units = 'in', res = 300)\n",
    "par(mai = c(1,1,1,1), omd = c(1,1,1,1), pin = c(7,9))\n",
    "p = ggplot(Country_Continent, aes(x=`Country`, y=Freq, label=Freq))\n",
    "p = p + geom_bar(stat='identity', aes(colour = factor(Continent), fill = factor(Continent)), width = 0.75, position=position_dodge()) + coord_flip() + geom_text(aes(label=Freq), hjust = -0.7, vjust=0.3, size=2)\n",
    "p = p + scale_x_discrete (limits = rev(Coun)) + theme_lucy() + scale_fill_manual('Continents',values=c('#DC96A7','#EB704A','#6AB0D7','#FEEC98','#B1D39B','#9274DC')) + scale_colour_manual('Continents',values=c('#DC96A7','#EB704A','#6AB0D7','#FEEC98','#B1D39B','#9274DC'))\n",
    "p + labs(title=\"Number of schools from each country in top 1000 highest-ranked universities list\", caption = 'Data from CWUR World University Rankings 2018-2019', x =\"Countries\", y = \"Number of schools in top-1000 list\")\n",
    "dev.off()"
   ]
  },
  {
   "cell_type": "code",
   "execution_count": null,
   "metadata": {},
   "outputs": [],
   "source": []
  }
 ],
 "metadata": {
  "kernelspec": {
   "display_name": "R",
   "language": "R",
   "name": "ir"
  },
  "language_info": {
   "codemirror_mode": "r",
   "file_extension": ".r",
   "mimetype": "text/x-r-source",
   "name": "R",
   "pygments_lexer": "r",
   "version": "3.5.1"
  }
 },
 "nbformat": 4,
 "nbformat_minor": 2
}
